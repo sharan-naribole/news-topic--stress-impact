{
 "cells": [
  {
   "cell_type": "markdown",
   "metadata": {
    "collapsed": true
   },
   "source": [
    "# Influence of News Topics on Facebook-based Stress Impact Scores"
   ]
  },
  {
   "cell_type": "markdown",
   "metadata": {},
   "source": [
    "## Table of Contents\n",
    "\n",
    "1. [Introduction](#introduction)\n",
    "\n",
    "2. [Related Work](#related-work)\n",
    "\n",
    "3. [Setup](#setup)\n",
    "\n",
    "4. [Data Collection](#data-collection)\n",
    "\n",
    "5. [Data Analysis](#data-analysis)    \n",
    "   5.1 [Reaction Bi-Variate Analysis](#reaction-analysis)    \n",
    "   5.2 [Stress Score Analysis](#stress-score-analysis)\n",
    "\n",
    "6. [Conclusion](#conclusion)"
   ]
  },
  {
   "cell_type": "markdown",
   "metadata": {},
   "source": [
    "<a id =\"introduction\"></a>"
   ]
  },
  {
   "cell_type": "markdown",
   "metadata": {},
   "source": [
    "## 1. Introduction\n",
    "\n",
    "The amount of time people spend on social media for e.g., Facebook, Twitter etc. is constantly increasing. Teens now spend up to nine hours a day on social platforms, while 30% of all time spent online is now allocated to social media interaction. And the majority of that time is on mobile - 60% of social media time spent is facilitated by a mobile device. [Source](https://www.socialmediatoday.com/marketing/how-much-time-do-people-spend-social-media-infographic)\n",
    "\n",
    "With such widespread use of smartphones, the role of social networking websites has greatly transformed. Becoming popular as a fun way to share your vacation pictures with the world, Facebook feed has now turned into a one-stop destination for everything from creepily relevant advertisements to latest news on violence and destruction around the world. How many times have you logged into Facebook with the intention of checking updates from dear ones only to find unpleasant news of politics and violence on top of your news feed? \n",
    "\n",
    "Negative news can significantly change an individual’s mood leading to distress and degradation in productivity. In this project, I analyze the potential stress impact of articles shared on Facebook and the variance of this impact based on the broad topic of the news article. Intuitively, an article on violence/war is expected to induce a more negative reaction compared to an article on sports/lifestyle. My initial goal is to validate such hypotheses using Facebook data available publicly. If we do observe significant variations based on news topics, we can potentially incorporate the topic dimension into news recommendation engines. For example, during working hours, the recommendation engine can place low priority for negative news with high stress scores if previous activity by the user for similar news articles is not found.\n",
    "\n",
    "For the data collection, I utilize Facebook API to collect information including article link, likes and \"reactions\" information to news articles shared on the official pages of reputed newspapers around the world. Additionally, for each news article, I find out the broad topic category of the article either from the article's link or by scraping the article's main page. With the collected data, I perform various analyses including relationship between the negative and positive reactions to an article and the variance in stress score across news topics. \n",
    "\n",
    "For those unfamiliar with Facebook reactions, these are additional emotions one can express for photos, posts and other content on Facebook apart from the \"like\" option which was the only reaction present previously. The available reactions are shown in the figure below. \n",
    "\n",
    "<img src=\"images/facebook_reactions.png\" alt=\"Smiley face\" height=\"500\" width=\"500\">"
   ]
  },
  {
   "cell_type": "markdown",
   "metadata": {},
   "source": [
    "<a id =\"related-work\"></a>"
   ]
  },
  {
   "cell_type": "markdown",
   "metadata": {},
   "source": [
    "## 2. Related Work\n",
    "\n",
    "While researching during problem formulation of this project, I came across this highly relevant data science blog [MyChillNews: An NLP-driven guide for conscious consumption of stressful news](https://blog.insightdatascience.com/mychillnews-an-nlp-driven-guide-for-conscious-consumption-of-stressful-news-89b4ba78a937). In MyChillNews, the author computed Stress-Impact Scores for news articles using Facebook API data. The author trained machine learning models for stress impact prediction using the article's title words as predictors. Moreover, the author built a web app that scrapes the top headlines from various newspapers' main pages on a daily basis and computes the potential Stress Impact Score using the trained models. All in all, this is a fantastic project and served as motivation for my own analysis.\n",
    "\n",
    "I found the analysis or active incorporation of news topic into the prediction model to be missing. It is possible a strong machine learning model can self-learn to classify topics based on words in the article titles. In contrast, my goal is to analyze the variance in stress impact scores across news topics without the use of article's title and content."
   ]
  },
  {
   "cell_type": "markdown",
   "metadata": {},
   "source": [
    "<a id =\"setup\"></a>"
   ]
  },
  {
   "cell_type": "markdown",
   "metadata": {},
   "source": [
    "## 3. Setup"
   ]
  },
  {
   "cell_type": "code",
   "execution_count": 2,
   "metadata": {
    "collapsed": true
   },
   "outputs": [],
   "source": [
    "# Data Collection\n",
    "import urllib.request\n",
    "import json\n",
    "import datetime\n",
    "import csv\n",
    "import time\n",
    "import requests\n",
    "from bs4 import BeautifulSoup\n",
    "\n",
    "# Data Transformation and Analysis\n",
    "import numpy as np\n",
    "import pandas as pd\n",
    "pd.set_option('precision',10)\n",
    "\n",
    "# Plotting \n",
    "import matplotlib\n",
    "import matplotlib.pyplot as plt\n",
    "plt.rcParams['figure.figsize'] = [14,10]\n",
    "import seaborn as sns\n",
    "%matplotlib inline"
   ]
  },
  {
   "cell_type": "markdown",
   "metadata": {},
   "source": [
    "<a id =\"data-collection\"></a>"
   ]
  },
  {
   "cell_type": "markdown",
   "metadata": {},
   "source": [
    "## 4. Data Collection"
   ]
  },
  {
   "cell_type": "markdown",
   "metadata": {},
   "source": [
    "For the data collection via Python using Facebook API, I was able to find baseline code available on GitHub. The top three sources I utilized are as follows:\n",
    "\n",
    "1. [Facebook Page Post Scraper](https://github.com/minimaxir/facebook-page-post-scraper)\n",
    "\n",
    "2. [MyChillNews](https://github.com/drsaunders/MyChillNews)\n",
    "\n",
    "The key extensions I performed include:\n",
    "\n",
    "1. **Extraction of news topics from news article links.** The treatment had to be different for different newspapers. Please go through the __processFacebookPageFeedStatus function of NewspaperData class in the following cell.\n",
    "\n",
    "2. **Modified computation of stress impact score compared to MyChillNews.** In my definition of stress score, the numerator is the sum of loves, hahas and thankfuls minus the sum of sad and angries. The denominator is the sum of loves, hahas, thankfuls, sads, angries and wows. I decided not to use wows in the numerator as from my anectodal evidence, wow can be used for both positive news and negative news.\n",
    "\n",
    "3. Minor changes in requests response code and other changes for Python 3."
   ]
  },
  {
   "cell_type": "code",
   "execution_count": 34,
   "metadata": {
    "collapsed": true
   },
   "outputs": [],
   "source": [
    "# Obtain the access token by creating Facebook Developers account\n",
    "## Obtain App Token for long-term access\n",
    "## Tutorial: https://medium.com/towards-data-science/how-to-use-facebook-graph-api-and-extract-data-using-python-1839e19d6999\n",
    "\n",
    "app_id = \"xxxx\"\n",
    "app_secret = \"xxxx\" # DO NOT SHARE WITH ANYONE!\n",
    "\n",
    "access_token = app_id + \"|\" + app_secret"
   ]
  },
  {
   "cell_type": "code",
   "execution_count": 31,
   "metadata": {
    "collapsed": true
   },
   "outputs": [],
   "source": [
    "class NewspaperData:\n",
    "    \n",
    "    def __init__(self, page_id, access_token):\n",
    "        \"\"\"NewspaperData initialization\n",
    "\n",
    "        Args:\n",
    "            page_id: The FB page to download from.\n",
    "            access_token: FB developer api token \n",
    "        \"\"\"\n",
    "        self.page_id = page_id\n",
    "        self.access_token = access_token\n",
    "    \n",
    "    def __unicode_normalize(self, text):\n",
    "        \"\"\" Needed to write tricky unicode correctly to csv\n",
    "        \"\"\"\n",
    "        return text.translate({ 0x2018:0x27, 0x2019:0x27, 0x201C:0x22, 0x201D:0x22, 0xa0:0x20 }).encode('utf-8')\n",
    "    \n",
    "    def __request_until_succeed(self, url):\n",
    "        success = False\n",
    "        while success is False:\n",
    "            try: \n",
    "                response = urllib.request.urlopen(url)\n",
    "                if response.getcode() == 200:\n",
    "                    success = True\n",
    "            except Exception as e:\n",
    "                print(e)\n",
    "                time.sleep(5)\n",
    "\n",
    "                print(\"Error for URL %s: %s\" % (url, datetime.datetime.now()))\n",
    "\n",
    "        return response.read().decode(\"utf-8\")\n",
    "    \n",
    "    def __unshorten_until_succeed(self,url):\n",
    "        \"\"\"Handy when links shared on Facebook are in shortened form\n",
    "\n",
    "        Args:\n",
    "            url: shortened url link\n",
    "        \"\"\"\n",
    "        try: \n",
    "            url = requests.head(url, allow_redirects=True).url\n",
    "        except Exception as e:\n",
    "            print(e)\n",
    "            #time.sleep(5)\n",
    "            print(\"Error for URL %s: %s\" % (url, datetime.datetime.now()))\n",
    "\n",
    "        return url\n",
    "    \n",
    "    def __getFacebookPageFeedData(self, num_statuses):\n",
    "        \"\"\"Gets a list of latest statuses from a particular page.\n",
    "\n",
    "        Args:\n",
    "            num_statuses: How many to grab this time\n",
    "        \"\"\"\n",
    "        # construct the URL string\n",
    "        base = \"https://graph.facebook.com/v2.6/\"\n",
    "        node = \"/\" + self.page_id + \"/posts\" \n",
    "        parameters = \"/?fields=message,link,created_time,type,name,id,comments.limit(1).summary(true),shares,reactions.limit(1).summary(true)&limit=%s&access_token=%s\" % (num_statuses, self.access_token) # changed\n",
    "        url = base + node + parameters\n",
    "\n",
    "        # retrieve data\n",
    "        data = json.loads(self.__request_until_succeed(url))\n",
    "\n",
    "        return data\n",
    "    \n",
    "    def __getFacebookPostData(self,status_id):\n",
    "        \"\"\"Returns all the Facebook API data for a given status\n",
    "\n",
    "        Args:\n",
    "            status_id: ID of the particular status to get data for\n",
    "        \"\"\"\n",
    "        num_statuses = 1\n",
    "        # construct the URL string\n",
    "        base = \"https://graph.facebook.com/v2.6/\"\n",
    "        node = status_id \n",
    "        #parameters = \"/?fields=reactions.summary(true),reactions.type(LIKE).limit(0).summary(true).as(like),reactions.type(LOVE).limit(0).summary(true).as(love),reactions.type(WOW).limit(0).summary(true).as(wow),reactions.type(HAHA).limit(0).summary(true).as(haha),reactions.type(SAD).limit(0).summary(true).as(sad),reactions.type(ANGRY).limit(0).summary(true).as(angry),reactions.type(THANKFUL).limit(0).summary(true).as(thankful)&limit=%s&access_token=%s\" % (num_statuses, access_token) # changed\n",
    "\n",
    "        #Potentially quicker, but maybe no difference:\n",
    "        parameters = \"/?fields=link,reactions.summary(total_count),reactions.type(LIKE).limit(0).summary(total_count).as(like),reactions.type(LOVE).limit(0).summary(total_count).as(love),reactions.type(WOW).limit(0).summary(total_count).as(wow),reactions.type(HAHA).limit(0).summary(total_count).as(haha),reactions.type(SAD).limit(0).summary(total_count).as(sad),reactions.type(ANGRY).limit(0).summary(total_count).as(angry),reactions.type(THANKFUL).limit(0).summary(total_count).as(thankful)&limit=%s&access_token=%s\" % (num_statuses, self.access_token) # changed\n",
    "        url = base + node + parameters\n",
    "\n",
    "        # retrieve data\n",
    "        data = json.loads(self.__request_until_succeed(url))\n",
    "        #print(data) - for debugging\n",
    "        return data\n",
    "    \n",
    "    def __processFacebookPageFeedStatus(self,status):\n",
    "        \"\"\"Takes a single FB status' data and computes all metrics\n",
    "\n",
    "        Args:\n",
    "            status: A facebook story retrieved from an API call\n",
    "\n",
    "        Returns:\n",
    "            A single row describing the aggregated reactions and metrics to the story.    \n",
    "        \"\"\"\n",
    "        # The status is now a Python dictionary, so for top-level items,\n",
    "        # we can simply call the key.\n",
    "\n",
    "        # Additionally, some items may not always exist,\n",
    "        # so must check for existence first\n",
    "        #print(status['id'])\n",
    "        status_id = status['id']\n",
    "\n",
    "        # To access data on particular reactions, accessing by post was easier than accessing by page.\n",
    "        # data is returned with each reaction data point.\n",
    "        # This slows down the script a bit and probably better ways are out there.\n",
    "        data = self.__getFacebookPostData(status_id)\n",
    "\n",
    "\n",
    "        status_message = '' if 'message' not in status.keys() else self.__unicode_normalize(status['message'])\n",
    "        link_name = '' if 'name' not in status.keys() else self.__unicode_normalize(status['name'])\n",
    "        status_type = status['type']\n",
    "        #status_link = '' if 'link' not in status.keys() else unicode_normalize(status['link'])\n",
    "        status_link = '' if 'link' not in status.keys() else status['link']\n",
    "\n",
    "\n",
    "        # Time needs special care since a) it's in UTC and\n",
    "        # b) it's not easy to use in statistical programs.\n",
    "\n",
    "        status_published = datetime.datetime.strptime(status['created_time'],'%Y-%m-%dT%H:%M:%S+0000')\n",
    "        status_published = status_published + datetime.timedelta(hours=-5) # EST\n",
    "        status_published = status_published.strftime('%Y-%m-%d %H:%M:%S') # best time format for spreadsheet programs\n",
    "\n",
    "        # Nested items require chaining dictionary keys.\n",
    "\n",
    "        #num_reactions1 = 0 if 'reactions' not in status.keys() else status['reactions']['type']['like']#.limit(0).summary(true).as(like)\n",
    "        num_reactions = 0 if 'reactions' not in status.keys() else status['reactions']['summary']['total_count']\n",
    "        num_comments = 0 if 'comments' not in status.keys() else status['comments']['summary']['total_count']\n",
    "        num_shares = 0 if 'shares' not in status.keys() else status['shares']['count']\n",
    "        num_likes = 0 if 'like' not in data.keys() else data['like']['summary']['total_count']\n",
    "        num_loves = 0 if 'love' not in data.keys() else data['love']['summary']['total_count']\n",
    "        num_wows = 0 if 'wow' not in data.keys() else data['wow']['summary']['total_count']\n",
    "        num_hahas = 0 if 'haha' not in data.keys() else data['haha']['summary']['total_count']\n",
    "        num_sads = 0 if 'sad' not in data.keys() else data['sad']['summary']['total_count']\n",
    "        num_angries = 0 if 'angry' not in data.keys() else data['angry']['summary']['total_count']\n",
    "        num_thankfuls = 0 if 'thankful' not in data.keys() else data['thankful']['summary']['total_count']\n",
    "\n",
    "        # Stress Impact Score Computation\n",
    "        sis = 0\n",
    "        if(num_reactions - num_likes > 0):\n",
    "            sis = 0.5*(num_loves + num_hahas + num_thankfuls - num_sads - num_angries)/(num_loves + num_wows + num_hahas + num_thankfuls + num_sads + num_angries)\n",
    "\n",
    "        # News Topic Category Scraping Goes here\n",
    "\n",
    "        '''\n",
    "        if 'www.nytimes.com' not in status_link:\n",
    "            session = requests.Session()  # so connections are recycled\n",
    "            resp = session.head(status_link, allow_redirects=True)\n",
    "            status_link = resp.url\n",
    "        '''\n",
    "\n",
    "        topic_primary = ''\n",
    "        topic_secondary = ''\n",
    "        ny_list = ['nytimes', 'cnn.com']\n",
    "        wash_list = ['www.washingtonpost.com','theguardian.com','www.latimes.com','timesofindia.indiatimes.com']\n",
    "\n",
    "        # NY Times:\n",
    "        if self.page_id == 'nytimes' or self.page_id == 'cnn':\n",
    "            if not any(x in status_link for x in ny_list):\n",
    "                status_link = unshorten_until_succeed(status_link)\n",
    "            if any(x in status_link for x in ny_list):\n",
    "                link_split = status_link.split('/')\n",
    "                if len(link_split) > 6:\n",
    "                    topic_primary = link_split[6]\n",
    "                    if len(link_split) == 9:\n",
    "                        topic_secondary = link_split[7]\n",
    "\n",
    "        # Washington Post\n",
    "        elif self.page_id in ['washingtonpost', 'theguardian', 'latimes','TimesofIndia']:\n",
    "            if not any(x in status_link for x in wash_list):\n",
    "                status_link = self.__unshorten_until_succeed(status_link)\n",
    "            if any(x in status_link for x in wash_list):\n",
    "                link_split = status_link.split('/')\n",
    "                if len(link_split) > 3:\n",
    "                    topic_primary = link_split[3]\n",
    "                if self.page_id in ['latimes','TimesofIndia'] and len(link_split) > 5:\n",
    "                    topic_secondary = link_split[4]\n",
    "\n",
    "        elif self.page_id == 'usatoday':\n",
    "            if not 'usatoday.com' in status_link:\n",
    "                status_link = unshorten_until_succeed(status_link)\n",
    "            if 'usatoday.com' in status_link:\n",
    "                link_split = status_link.split('/')\n",
    "                topic_primary = link_split[4]\n",
    "                if link_split[5] != '2017':\n",
    "                    topic_secondary = link_split[5]\n",
    "\n",
    "        elif self.page_id == 'bbcnews':\n",
    "            if not 'bbc.co' in status_link:\n",
    "                status_link = unshorten_until_succeed(status_link)\n",
    "            if 'bbc.co' in status_link:\n",
    "                link_split = status_link.split('/')\n",
    "                if len(link_split) > 4:\n",
    "                    topics = link_split[4].split('-')\n",
    "                    if len(topics) >= 2:\n",
    "                        topic_primary = topics[0]\n",
    "                        if not topics[1][0] in '0123456789':\n",
    "                            topic_secondary = topics[1]\n",
    "\n",
    "        # return a tuple of all processed data\n",
    "        return (status_id, status_message, link_name, status_type, status_link,\n",
    "               status_published, num_reactions, num_comments, num_shares, num_likes,\n",
    "                num_loves, num_wows, num_hahas, num_sads, num_angries, num_thankfuls, sis, topic_primary, topic_secondary)\n",
    "    \n",
    "    def scrapeFacebookPageFeedStatus(self,limit = 10000, limited = True, save_csv = True):\n",
    "        \"\"\"Gets all the statuses, up to a particular limit, for a public FB page.\n",
    "\n",
    "        Args:\n",
    "            page_id: The name of the public page e.g. \"HuffingtonPost\"\n",
    "            access_token: FB developer api token \n",
    "\n",
    "        Returns:\n",
    "            A dataframe with a row for each story, and columns as described below.\n",
    "        \"\"\"\n",
    "        with open('%s_facebook_statuses_data.csv' % self.page_id, 'w') as file:\n",
    "\n",
    "            columns=[\"status_id\", \"status_message\", \"link_name\", \"status_type\", \"status_link\",\n",
    "               \"status_published\", \"num_reactions\", \"num_comments\", \"num_shares\", \"num_likes\",\n",
    "                        \"num_loves\",\"num_wows\",\"num_hahas\",\"num_sads\",\"num_angries\",\"num_thankfuls\",\n",
    "                    \"stress_score\",\"topic\"]\n",
    "\n",
    "            news_pages = ['www.nytimes.com','www.washingtonpost.com','cnn.com', 'usatoday.com',\n",
    "                         'theguardian.com','www.latimes.com','timesofindia.indiatimes.com']\n",
    "\n",
    "            if save_csv:\n",
    "                w = csv.writer(file)\n",
    "                w.writerow(columns)\n",
    "\n",
    "            has_next_page = True\n",
    "            num_processed = 0   # keep a count on how many we've processed\n",
    "            scrape_starttime = datetime.datetime.now()\n",
    "\n",
    "            print(\"Scraping {} Facebook Page: {}\\n\".format(self.page_id, scrape_starttime))\n",
    "\n",
    "            statuses = self.__getFacebookPageFeedData(100)\n",
    "            #print(statuses)\n",
    "\n",
    "            # Get one \"page\" of 100 statuses at a time\n",
    "            new_rows = []\n",
    "            while has_next_page:\n",
    "                #check_reaction = 0\n",
    "                for status in statuses['data']:\n",
    "\n",
    "                    if(status['created_time'] < '2016-00-00T00:00:00+0000'):\n",
    "                       print(status['created_time'])\n",
    "                       has_next_page = False\n",
    "                       break\n",
    "\n",
    "                    if(status['type'] == 'link'):\n",
    "                        status_items = self.__processFacebookPageFeedStatus(status)\n",
    "                        if save_csv:\n",
    "                            w.writerow(status_items)\n",
    "                        new_dict = dict()\n",
    "                        for i,c in enumerate(columns):\n",
    "                            new_dict[c] = status_items[i]\n",
    "\n",
    "                        if new_dict['num_reactions'] - new_dict['num_likes'] > 0:\n",
    "                            new_rows.append(new_dict)\n",
    "                            #check_reaction += 1\n",
    "                            # output progress occasionally to make sure code is not stalling\n",
    "                            num_processed += 1\n",
    "\n",
    "                            if num_processed % 100 == 0:\n",
    "                                print(\"{} Statuses Processed: {}\".format(num_processed, datetime.datetime.now()))\n",
    "                            if limited == True and num_processed >= limit:\n",
    "                                has_next_page = False\n",
    "                            #else:\n",
    "                            #    print(status['link'])\n",
    "\n",
    "\n",
    "                #if check_reaction == 0:\n",
    "                #    print(check_reaction)\n",
    "                #    has_next_page = False\n",
    "\n",
    "                # if there is no next page, we're done.\n",
    "                if 'paging' in statuses.keys():\n",
    "                    if 'next' in statuses['paging'].keys():\n",
    "                        statuses = json.loads(self.__request_until_succeed(statuses['paging']['next']))\n",
    "                else:\n",
    "                    print('Paging ended!')\n",
    "                    has_next_page = False\n",
    "\n",
    "\n",
    "            print(\"\\nDone!\\n{} Statuses Processed in {}\".format(num_processed, datetime.datetime.now() - scrape_starttime))\n",
    "\n",
    "            new_statuses = pd.DataFrame(new_rows)\n",
    "            return new_statuses"
   ]
  },
  {
   "cell_type": "code",
   "execution_count": 32,
   "metadata": {
    "collapsed": true
   },
   "outputs": [],
   "source": [
    "guardian = NewspaperData('theguardian',access_token)"
   ]
  },
  {
   "cell_type": "code",
   "execution_count": 33,
   "metadata": {
    "collapsed": false
   },
   "outputs": [
    {
     "name": "stdout",
     "output_type": "stream",
     "text": [
      "Scraping theguardian Facebook Page: 2017-10-29 20:17:35.946251\n",
      "\n",
      "100 Statuses Processed: 2017-10-29 20:18:11.354825\n",
      "200 Statuses Processed: 2017-10-29 20:18:42.578405\n",
      "300 Statuses Processed: 2017-10-29 20:19:14.111109\n",
      "400 Statuses Processed: 2017-10-29 20:19:49.148351\n",
      "500 Statuses Processed: 2017-10-29 20:20:20.808188\n",
      "600 Statuses Processed: 2017-10-29 20:21:14.159000\n",
      "700 Statuses Processed: 2017-10-29 20:22:00.231246\n",
      "Exceeded 30 redirects.\n",
      "Error for URL http://ebx.sh/1WAWmvL: 2017-10-29 20:22:59.432852\n",
      "800 Statuses Processed: 2017-10-29 20:24:26.615439\n",
      "2015-12-31T09:00:00+0000\n",
      "\n",
      "Done!\n",
      "821 Statuses Processed in 0:07:24.093920\n"
     ]
    }
   ],
   "source": [
    "guardian_data = guardian.scrapeFacebookPageFeedStatus()"
   ]
  },
  {
   "cell_type": "markdown",
   "metadata": {},
   "source": [
    "<a id =\"data-analysis\"></a>"
   ]
  },
  {
   "cell_type": "markdown",
   "metadata": {},
   "source": [
    "## 5. Data Analysis"
   ]
  },
  {
   "cell_type": "markdown",
   "metadata": {},
   "source": [
    "In this sub-section, I analyze the collected data. First, I filter the dataframe by removing topics for which there are less than 25 articles and records with total number of reactions less than 10."
   ]
  },
  {
   "cell_type": "code",
   "execution_count": 36,
   "metadata": {
    "collapsed": false
   },
   "outputs": [
    {
     "data": {
      "text/html": [
       "<div>\n",
       "<table border=\"1\" class=\"dataframe\">\n",
       "  <thead>\n",
       "    <tr style=\"text-align: right;\">\n",
       "      <th></th>\n",
       "      <th>link_name</th>\n",
       "      <th>num_angries</th>\n",
       "      <th>num_comments</th>\n",
       "      <th>num_hahas</th>\n",
       "      <th>num_likes</th>\n",
       "      <th>num_loves</th>\n",
       "      <th>num_reactions</th>\n",
       "      <th>num_sads</th>\n",
       "      <th>num_shares</th>\n",
       "      <th>num_thankfuls</th>\n",
       "      <th>num_wows</th>\n",
       "      <th>status_id</th>\n",
       "      <th>status_link</th>\n",
       "      <th>status_message</th>\n",
       "      <th>status_published</th>\n",
       "      <th>status_type</th>\n",
       "      <th>stress_score</th>\n",
       "      <th>topic</th>\n",
       "    </tr>\n",
       "  </thead>\n",
       "  <tbody>\n",
       "    <tr>\n",
       "      <th>0</th>\n",
       "      <td>b\"A year on from Trump's pussy grab, nothing h...</td>\n",
       "      <td>47</td>\n",
       "      <td>42</td>\n",
       "      <td>11</td>\n",
       "      <td>90</td>\n",
       "      <td>3</td>\n",
       "      <td>169</td>\n",
       "      <td>18</td>\n",
       "      <td>40</td>\n",
       "      <td>0</td>\n",
       "      <td>0</td>\n",
       "      <td>10513336322_10156114478206323</td>\n",
       "      <td>https://www.theguardian.com/lifeandstyle/2017/...</td>\n",
       "      <td>b'\"It is one year later, and all that\\'s diffe...</td>\n",
       "      <td>2017-10-29 17:00:00</td>\n",
       "      <td>link</td>\n",
       "      <td>-0.3227848101</td>\n",
       "      <td>lifeandstyle</td>\n",
       "    </tr>\n",
       "    <tr>\n",
       "      <th>1</th>\n",
       "      <td>b'Has America lost its appetite for Curb Your ...</td>\n",
       "      <td>23</td>\n",
       "      <td>249</td>\n",
       "      <td>46</td>\n",
       "      <td>186</td>\n",
       "      <td>9</td>\n",
       "      <td>272</td>\n",
       "      <td>7</td>\n",
       "      <td>33</td>\n",
       "      <td>0</td>\n",
       "      <td>1</td>\n",
       "      <td>10513336322_10156114047201323</td>\n",
       "      <td>https://www.theguardian.com/tv-and-radio/2017/...</td>\n",
       "      <td>b'Has a show about the travails of a privilege...</td>\n",
       "      <td>2017-10-29 16:40:00</td>\n",
       "      <td>link</td>\n",
       "      <td>0.1453488372</td>\n",
       "      <td>tv-and-radio</td>\n",
       "    </tr>\n",
       "    <tr>\n",
       "      <th>2</th>\n",
       "      <td>b'Why we need a 21st-century Martin Luther to ...</td>\n",
       "      <td>2</td>\n",
       "      <td>50</td>\n",
       "      <td>18</td>\n",
       "      <td>340</td>\n",
       "      <td>14</td>\n",
       "      <td>379</td>\n",
       "      <td>2</td>\n",
       "      <td>182</td>\n",
       "      <td>0</td>\n",
       "      <td>3</td>\n",
       "      <td>10513336322_10156114322666323</td>\n",
       "      <td>https://www.theguardian.com/technology/2017/oc...</td>\n",
       "      <td>b\"'We are all members of the Church of Technop...</td>\n",
       "      <td>2017-10-29 16:20:00</td>\n",
       "      <td>link</td>\n",
       "      <td>0.3589743590</td>\n",
       "      <td>technology</td>\n",
       "    </tr>\n",
       "    <tr>\n",
       "      <th>3</th>\n",
       "      <td>b\"Sasha Velour: 'Drag is darkness turned into ...</td>\n",
       "      <td>5</td>\n",
       "      <td>201</td>\n",
       "      <td>6</td>\n",
       "      <td>1205</td>\n",
       "      <td>368</td>\n",
       "      <td>1589</td>\n",
       "      <td>1</td>\n",
       "      <td>155</td>\n",
       "      <td>0</td>\n",
       "      <td>4</td>\n",
       "      <td>10513336322_10156114348701323</td>\n",
       "      <td>https://www.theguardian.com/tv-and-radio/2017/...</td>\n",
       "      <td>b'Sasha Velour: \"As an adult I\\'ve turned to d...</td>\n",
       "      <td>2017-10-29 16:00:00</td>\n",
       "      <td>link</td>\n",
       "      <td>0.4791666667</td>\n",
       "      <td>tv-and-radio</td>\n",
       "    </tr>\n",
       "    <tr>\n",
       "      <th>4</th>\n",
       "      <td>b'Frida Kahlo: feminist, selfie queen, queer i...</td>\n",
       "      <td>4</td>\n",
       "      <td>206</td>\n",
       "      <td>21</td>\n",
       "      <td>3343</td>\n",
       "      <td>525</td>\n",
       "      <td>3895</td>\n",
       "      <td>0</td>\n",
       "      <td>715</td>\n",
       "      <td>0</td>\n",
       "      <td>3</td>\n",
       "      <td>10513336322_10156114421836323</td>\n",
       "      <td>https://www.theguardian.com/fashion/2017/oct/2...</td>\n",
       "      <td>b'\"Frida Kahlo was one of the first women to u...</td>\n",
       "      <td>2017-10-29 15:40:00</td>\n",
       "      <td>link</td>\n",
       "      <td>0.4900542495</td>\n",
       "      <td>fashion</td>\n",
       "    </tr>\n",
       "  </tbody>\n",
       "</table>\n",
       "</div>"
      ],
      "text/plain": [
       "                                           link_name  num_angries  \\\n",
       "0  b\"A year on from Trump's pussy grab, nothing h...           47   \n",
       "1  b'Has America lost its appetite for Curb Your ...           23   \n",
       "2  b'Why we need a 21st-century Martin Luther to ...            2   \n",
       "3  b\"Sasha Velour: 'Drag is darkness turned into ...            5   \n",
       "4  b'Frida Kahlo: feminist, selfie queen, queer i...            4   \n",
       "\n",
       "   num_comments  num_hahas  num_likes  num_loves  num_reactions  num_sads  \\\n",
       "0            42         11         90          3            169        18   \n",
       "1           249         46        186          9            272         7   \n",
       "2            50         18        340         14            379         2   \n",
       "3           201          6       1205        368           1589         1   \n",
       "4           206         21       3343        525           3895         0   \n",
       "\n",
       "   num_shares  num_thankfuls  num_wows                      status_id  \\\n",
       "0          40              0         0  10513336322_10156114478206323   \n",
       "1          33              0         1  10513336322_10156114047201323   \n",
       "2         182              0         3  10513336322_10156114322666323   \n",
       "3         155              0         4  10513336322_10156114348701323   \n",
       "4         715              0         3  10513336322_10156114421836323   \n",
       "\n",
       "                                         status_link  \\\n",
       "0  https://www.theguardian.com/lifeandstyle/2017/...   \n",
       "1  https://www.theguardian.com/tv-and-radio/2017/...   \n",
       "2  https://www.theguardian.com/technology/2017/oc...   \n",
       "3  https://www.theguardian.com/tv-and-radio/2017/...   \n",
       "4  https://www.theguardian.com/fashion/2017/oct/2...   \n",
       "\n",
       "                                      status_message     status_published  \\\n",
       "0  b'\"It is one year later, and all that\\'s diffe...  2017-10-29 17:00:00   \n",
       "1  b'Has a show about the travails of a privilege...  2017-10-29 16:40:00   \n",
       "2  b\"'We are all members of the Church of Technop...  2017-10-29 16:20:00   \n",
       "3  b'Sasha Velour: \"As an adult I\\'ve turned to d...  2017-10-29 16:00:00   \n",
       "4  b'\"Frida Kahlo was one of the first women to u...  2017-10-29 15:40:00   \n",
       "\n",
       "  status_type  stress_score         topic  \n",
       "0        link -0.3227848101  lifeandstyle  \n",
       "1        link  0.1453488372  tv-and-radio  \n",
       "2        link  0.3589743590    technology  \n",
       "3        link  0.4791666667  tv-and-radio  \n",
       "4        link  0.4900542495       fashion  "
      ]
     },
     "execution_count": 36,
     "metadata": {},
     "output_type": "execute_result"
    }
   ],
   "source": [
    "guardian_data.head()"
   ]
  },
  {
   "cell_type": "code",
   "execution_count": 37,
   "metadata": {
    "collapsed": false
   },
   "outputs": [
    {
     "name": "stdout",
     "output_type": "stream",
     "text": [
      "<class 'pandas.core.frame.DataFrame'>\n",
      "RangeIndex: 821 entries, 0 to 820\n",
      "Data columns (total 18 columns):\n",
      "link_name           821 non-null object\n",
      "num_angries         821 non-null int64\n",
      "num_comments        821 non-null int64\n",
      "num_hahas           821 non-null int64\n",
      "num_likes           821 non-null int64\n",
      "num_loves           821 non-null int64\n",
      "num_reactions       821 non-null int64\n",
      "num_sads            821 non-null int64\n",
      "num_shares          821 non-null int64\n",
      "num_thankfuls       821 non-null int64\n",
      "num_wows            821 non-null int64\n",
      "status_id           821 non-null object\n",
      "status_link         821 non-null object\n",
      "status_message      821 non-null object\n",
      "status_published    821 non-null object\n",
      "status_type         821 non-null object\n",
      "stress_score        821 non-null float64\n",
      "topic               821 non-null object\n",
      "dtypes: float64(1), int64(10), object(7)\n",
      "memory usage: 115.5+ KB\n"
     ]
    }
   ],
   "source": [
    "guardian_data.info()"
   ]
  },
  {
   "cell_type": "code",
   "execution_count": 42,
   "metadata": {
    "collapsed": false
   },
   "outputs": [],
   "source": [
    "# Making a copy on which we will perform the transformations\n",
    "\n",
    "news_df = guardian_data.copy()"
   ]
  },
  {
   "cell_type": "code",
   "execution_count": 43,
   "metadata": {
    "collapsed": true
   },
   "outputs": [],
   "source": [
    "# Removing the records with number of reactions less than 10\n",
    "# Total number of reactions includes the likes so they have to be removed\n",
    "\n",
    "news_df = (news_df\n",
    "           .loc[news_df['num_reactions'] - \n",
    "                news_df['num_likes'] >= 10,:])"
   ]
  },
  {
   "cell_type": "code",
   "execution_count": 44,
   "metadata": {
    "collapsed": true
   },
   "outputs": [],
   "source": [
    "# Removing rows with topics which have a total number of articles less than 25\n",
    "\n",
    "news_df = (news_df.groupby(['topic'])\n",
    "              .filter(lambda x: len(x) >= 25))"
   ]
  },
  {
   "cell_type": "markdown",
   "metadata": {},
   "source": [
    "<a id =\"reaction-analysis\"></a>"
   ]
  },
  {
   "cell_type": "markdown",
   "metadata": {},
   "source": [
    "### 5.1 Reaction Analysis\n",
    "\n",
    "In this sub-section, we analyze the relationship between the different reactions after classifying them into positive and negative reactions. Also, I validate not using \"wow\" in the Stress score computation by showing that it does not have significant correlation with either positive reaction ratio or negative reaction ratio.\n",
    "\n",
    "To analyze the relationship between positive reactions and negative reactions, I first compute positive reaction ratio and negative reaction ratio for each record. In short, they are the fractions of the total reactions on the record."
   ]
  },
  {
   "cell_type": "code",
   "execution_count": 45,
   "metadata": {
    "collapsed": true
   },
   "outputs": [],
   "source": [
    "news_df['positive_ratio'] = ((news_df['num_hahas'] + \n",
    "                                         news_df['num_loves'] + \n",
    "                                         news_df['num_thankfuls']) / (news_df['num_reactions'] - news_df['num_likes']))\n",
    "\n",
    "news_df['negative_ratio'] = (news_df['num_sads'] + news_df['num_angries']) / (news_df['num_reactions'] - news_df['num_likes'])\n",
    "\n",
    "news_df['wow_ratio'] = news_df['num_wows'] / (news_df['num_reactions'] - news_df['num_likes'])"
   ]
  },
  {
   "cell_type": "code",
   "execution_count": 46,
   "metadata": {
    "collapsed": false
   },
   "outputs": [
    {
     "data": {
      "text/plain": [
       "<seaborn.axisgrid.JointGrid at 0x1100427f0>"
      ]
     },
     "execution_count": 46,
     "metadata": {},
     "output_type": "execute_result"
    },
    {
     "data": {
      "image/png": "[encoded data removed]",
      "text/plain": [
       "<matplotlib.figure.Figure at 0x1100429b0>"
      ]
     },
     "metadata": {},
     "output_type": "display_data"
    }
   ],
   "source": [
    "# Positive Reaction ratio - Negative Reaction ratio \n",
    "# Bi-variate relationship\n",
    "\n",
    "sns.jointplot(x = \"positive_ratio\", y = \"negative_ratio\", data = news_df)"
   ]
  },
  {
   "cell_type": "markdown",
   "metadata": {},
   "source": [
    "**Observations:**\n",
    "\n",
    "1. **Positive reaction distribution:** The biggest bars in the bar plot are at extremely low value of 0 or extremely high value of 1.\n",
    "2. ** Negative reaction distribution:** The highest bar is at 0 and evenly distributed across other ratio values.\n",
    "3. **Strong negative correlation:** The Pearson correlation coefficient is a high value of -0.89. From the distribution curves, majority of the points have high positive reaction score or high negative reaction score.\n",
    "\n",
    "Next, I show wow reaction has little correlation with either the positive reaction ratio or negative reaction ratio."
   ]
  },
  {
   "cell_type": "code",
   "execution_count": 47,
   "metadata": {
    "collapsed": false
   },
   "outputs": [
    {
     "data": {
      "text/plain": [
       "<seaborn.axisgrid.JointGrid at 0x110020940>"
      ]
     },
     "execution_count": 47,
     "metadata": {},
     "output_type": "execute_result"
    },
    {
     "data": {
      "image/png": "[encoded data removed]",
      "text/plain": [
       "<matplotlib.figure.Figure at 0x110020da0>"
      ]
     },
     "metadata": {},
     "output_type": "display_data"
    }
   ],
   "source": [
    "sns.jointplot(x = \"positive_ratio\", y = \"wow_ratio\", data = news_df)"
   ]
  },
  {
   "cell_type": "code",
   "execution_count": 48,
   "metadata": {
    "collapsed": false
   },
   "outputs": [
    {
     "data": {
      "text/plain": [
       "<seaborn.axisgrid.JointGrid at 0x1108a2550>"
      ]
     },
     "execution_count": 48,
     "metadata": {},
     "output_type": "execute_result"
    },
    {
     "data": {
      "image/png": "[encoded data removed]",
      "text/plain": [
       "<matplotlib.figure.Figure at 0x110f6bcc0>"
      ]
     },
     "metadata": {},
     "output_type": "display_data"
    }
   ],
   "source": [
    "sns.jointplot(x = \"negative_ratio\", y = \"wow_ratio\", data = news_df)"
   ]
  },
  {
   "cell_type": "markdown",
   "metadata": {},
   "source": [
    "<a id =\"stress-score-analysis\"></a>"
   ]
  },
  {
   "cell_type": "markdown",
   "metadata": {},
   "source": [
    "## 5.2 Stress Score Analysis"
   ]
  },
  {
   "cell_type": "code",
   "execution_count": 51,
   "metadata": {
    "collapsed": false
   },
   "outputs": [
    {
     "data": {
      "text/plain": [
       "commentisfree    112\n",
       "world            102\n",
       "us-news           81\n",
       "lifeandstyle      73\n",
       "politics          54\n",
       "film              44\n",
       "technology        32\n",
       "Name: topic, dtype: int64"
      ]
     },
     "execution_count": 51,
     "metadata": {},
     "output_type": "execute_result"
    }
   ],
   "source": [
    "# Listing the top topics based on article count\n",
    "top_topics = (news_df['topic']\n",
    "              .value_counts()\n",
    "              .sort_values(ascending = False)\n",
    "              .head(10))\n",
    "\n",
    "top_topics"
   ]
  },
  {
   "cell_type": "markdown",
   "metadata": {},
   "source": [
    "commentisfree seems to an irrelevant topic and therefore will be removed from further analysis."
   ]
  },
  {
   "cell_type": "code",
   "execution_count": 63,
   "metadata": {
    "collapsed": false
   },
   "outputs": [],
   "source": [
    "news_df = news_df.loc[news_df['topic'] != 'commentisfree',:]"
   ]
  },
  {
   "cell_type": "code",
   "execution_count": 64,
   "metadata": {
    "collapsed": false
   },
   "outputs": [
    {
     "data": {
      "text/plain": [
       "world           102\n",
       "us-news          81\n",
       "lifeandstyle     73\n",
       "politics         54\n",
       "film             44\n",
       "technology       32\n",
       "Name: topic, dtype: int64"
      ]
     },
     "execution_count": 64,
     "metadata": {},
     "output_type": "execute_result"
    }
   ],
   "source": [
    "news_df['topic'].value_counts()"
   ]
  },
  {
   "cell_type": "code",
   "execution_count": 65,
   "metadata": {
    "collapsed": false
   },
   "outputs": [
    {
     "data": {
      "text/plain": [
       "[<matplotlib.text.Text at 0x111494390>,\n",
       " <matplotlib.text.Text at 0x1114a6cc0>,\n",
       " <matplotlib.text.Text at 0x11149c860>,\n",
       " <matplotlib.text.Text at 0x110ee0278>,\n",
       " <matplotlib.text.Text at 0x111497898>,\n",
       " <matplotlib.text.Text at 0x111500f28>]"
      ]
     },
     "execution_count": 65,
     "metadata": {},
     "output_type": "execute_result"
    },
    {
     "data": {
      "image/png": "[encoded data removed]",
      "text/plain": [
       "<matplotlib.figure.Figure at 0x11127cb00>"
      ]
     },
     "metadata": {},
     "output_type": "display_data"
    }
   ],
   "source": [
    "g = sns.countplot(x = \"topic\", data = news_df, \n",
    "              order = (news_df['topic'].\n",
    "                       value_counts().index))\n",
    "g.set_xticklabels(g.get_xticklabels(),rotation=30)"
   ]
  },
  {
   "cell_type": "code",
   "execution_count": 68,
   "metadata": {
    "collapsed": false
   },
   "outputs": [
    {
     "data": {
      "text/plain": [
       "<matplotlib.text.Text at 0x11171df98>"
      ]
     },
     "execution_count": 68,
     "metadata": {},
     "output_type": "execute_result"
    },
    {
     "data": {
      "image/png": "[encoded data removed]",
      "text/plain": [
       "<matplotlib.figure.Figure at 0x10f9ae7f0>"
      ]
     },
     "metadata": {},
     "output_type": "display_data"
    }
   ],
   "source": [
    "g = sns.boxplot(x = \"topic\", y = \"stress_score\", data = news_df,\n",
    "              order = (news_df['topic'].\n",
    "                       value_counts().\n",
    "                       iloc[:].index))\n",
    "g.set_xticklabels(g.get_xticklabels(),rotation=30)\n",
    "plt.title(\"The Guardian\")"
   ]
  },
  {
   "cell_type": "markdown",
   "metadata": {},
   "source": [
    "**Observations:**\n",
    "\n",
    "1. Technology and Lifestyle topics have the highest positive scores indicating a positive reaction from the readers/\n",
    "\n",
    "2. Interestingly, politics also has a positive score.\n",
    "\n",
    "3. Interestingly, film news has the highest variance with the 25%-quantile point lying at -0.4.\n",
    "\n",
    "4. US News has the lowest mean stress score indicating a higher probability of negative news compared to others. With the US-related news being largely negative ever since the recent elections, this is not surprising.\n",
    "\n",
    "I performed similar analysis for also LA Times. This will allow us to compare the stress score across news agencies. The plot similar to above is displayed below."
   ]
  },
  {
   "cell_type": "markdown",
   "metadata": {},
   "source": [
    "<img src=\"images/latimes_stress_score.png\" alt=\"Smiley face\" height=\"500\" width=\"500\">"
   ]
  },
  {
   "cell_type": "markdown",
   "metadata": {},
   "source": [
    "**Observations:**\n",
    "\n",
    "1. We observe high positive scores for sports, food, science and entertainment.\n",
    "\n",
    "2. Interestingly, world news has the lowest score in this case even lower than politics/business. This might be because the world news might be related to violence and destruction in other parts of the world."
   ]
  },
  {
   "cell_type": "markdown",
   "metadata": {},
   "source": [
    "<a id =\"conclusion\"></a>"
   ]
  },
  {
   "cell_type": "markdown",
   "metadata": {},
   "source": [
    "## 6. Conclusion\n",
    "\n",
    "In conclusion, I analyzed Facebook reaction data for news articles shared on the official pages of leading newspapers. My analysis shows a strong negative correlation between positive reaction ratio and negative reaction ratio for an article. Moreover, significant variance was observed in stress score across the different news topics!"
   ]
  },
  {
   "cell_type": "code",
   "execution_count": null,
   "metadata": {
    "collapsed": true
   },
   "outputs": [],
   "source": []
  }
 ],
 "metadata": {
  "kernelspec": {
   "display_name": "Python 3",
   "language": "python",
   "name": "python3"
  },
  "language_info": {
   "codemirror_mode": {
    "name": "ipython",
    "version": 3
   },
   "file_extension": ".py",
   "mimetype": "text/x-python",
   "name": "python",
   "nbconvert_exporter": "python",
   "pygments_lexer": "ipython3",
   "version": "3.5.2"
  }
 },
 "nbformat": 4,
 "nbformat_minor": 2
}
